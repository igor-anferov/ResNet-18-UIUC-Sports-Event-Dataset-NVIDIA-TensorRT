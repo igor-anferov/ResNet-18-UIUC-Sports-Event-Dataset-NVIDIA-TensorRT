{
  "nbformat": 4,
  "nbformat_minor": 0,
  "metadata": {
    "colab": {
      "name": "install_trt_colab.ipynb",
      "provenance": [],
      "collapsed_sections": []
    },
    "kernelspec": {
      "name": "python3",
      "display_name": "Python 3"
    }
  },
  "cells": [
    {
      "cell_type": "code",
      "metadata": {
        "id": "pTkb8yNx7v23",
        "colab_type": "code",
        "colab": {
          "base_uri": "https://localhost:8080/",
          "height": 221
        },
        "outputId": "24c13896-b55f-49a0-f647-39f04e421fc7"
      },
      "source": [
        "!cat /etc/os-release"
      ],
      "execution_count": 9,
      "outputs": [
        {
          "output_type": "stream",
          "text": [
            "NAME=\"Ubuntu\"\n",
            "VERSION=\"18.04.3 LTS (Bionic Beaver)\"\n",
            "ID=ubuntu\n",
            "ID_LIKE=debian\n",
            "PRETTY_NAME=\"Ubuntu 18.04.3 LTS\"\n",
            "VERSION_ID=\"18.04\"\n",
            "HOME_URL=\"https://www.ubuntu.com/\"\n",
            "SUPPORT_URL=\"https://help.ubuntu.com/\"\n",
            "BUG_REPORT_URL=\"https://bugs.launchpad.net/ubuntu/\"\n",
            "PRIVACY_POLICY_URL=\"https://www.ubuntu.com/legal/terms-and-policies/privacy-policy\"\n",
            "VERSION_CODENAME=bionic\n",
            "UBUNTU_CODENAME=bionic\n"
          ],
          "name": "stdout"
        }
      ]
    },
    {
      "cell_type": "code",
      "metadata": {
        "id": "kSdcS2TC7-x3",
        "colab_type": "code",
        "colab": {
          "base_uri": "https://localhost:8080/",
          "height": 85
        },
        "outputId": "52b78714-166a-42f9-e627-a8a29e1e88ab"
      },
      "source": [
        "!nvcc --version"
      ],
      "execution_count": 5,
      "outputs": [
        {
          "output_type": "stream",
          "text": [
            "nvcc: NVIDIA (R) Cuda compiler driver\n",
            "Copyright (c) 2005-2019 NVIDIA Corporation\n",
            "Built on Sun_Jul_28_19:07:16_PDT_2019\n",
            "Cuda compilation tools, release 10.1, V10.1.243\n"
          ],
          "name": "stdout"
        }
      ]
    },
    {
      "cell_type": "code",
      "metadata": {
        "id": "r1yAGnc68Of2",
        "colab_type": "code",
        "colab": {
          "base_uri": "https://localhost:8080/",
          "height": 68
        },
        "outputId": "8d058070-cfd0-4349-e49c-a271a0480a52"
      },
      "source": [
        "!curl -o trt.deb https://at.ispras.ru/owncloud/index.php/s/pOGMehXNaRuIj73/download"
      ],
      "execution_count": 10,
      "outputs": [
        {
          "output_type": "stream",
          "text": [
            "  % Total    % Received % Xferd  Average Speed   Time    Time     Time  Current\n",
            "                                 Dload  Upload   Total   Spent    Left  Speed\n",
            "100  900M  100  900M    0     0  19.4M      0  0:00:46  0:00:46 --:--:-- 20.6M\n"
          ],
          "name": "stdout"
        }
      ]
    },
    {
      "cell_type": "code",
      "metadata": {
        "id": "D6w7QNNT9fi1",
        "colab_type": "code",
        "colab": {
          "base_uri": "https://localhost:8080/",
          "height": 102
        },
        "outputId": "f22f60b8-daac-4b10-c25d-da662035f51a"
      },
      "source": [
        "!dpkg -i trt.deb"
      ],
      "execution_count": 11,
      "outputs": [
        {
          "output_type": "stream",
          "text": [
            "Selecting previously unselected package nv-tensorrt-repo-ubuntu1804-cuda10.1-trt6.0.1.5-ga-20190913.\n",
            "(Reading database ... 134983 files and directories currently installed.)\n",
            "Preparing to unpack trt.deb ...\n",
            "Unpacking nv-tensorrt-repo-ubuntu1804-cuda10.1-trt6.0.1.5-ga-20190913 (1-1) ...\n",
            "Setting up nv-tensorrt-repo-ubuntu1804-cuda10.1-trt6.0.1.5-ga-20190913 (1-1) ...\n"
          ],
          "name": "stdout"
        }
      ]
    },
    {
      "cell_type": "code",
      "metadata": {
        "id": "71GGgKsG-I1X",
        "colab_type": "code",
        "colab": {
          "base_uri": "https://localhost:8080/",
          "height": 442
        },
        "outputId": "39d11f02-5936-4286-d3da-bb63a0010519"
      },
      "source": [
        "!find /var/nv*"
      ],
      "execution_count": 15,
      "outputs": [
        {
          "output_type": "stream",
          "text": [
            "/var/nv-tensorrt-repo-cuda10.1-trt6.0.1.5-ga-20190913\n",
            "/var/nv-tensorrt-repo-cuda10.1-trt6.0.1.5-ga-20190913/python3-libnvinfer_6.0.1-1+cuda10.1_amd64.deb\n",
            "/var/nv-tensorrt-repo-cuda10.1-trt6.0.1.5-ga-20190913/libnvinfer-plugin-dev_6.0.1-1+cuda10.1_amd64.deb\n",
            "/var/nv-tensorrt-repo-cuda10.1-trt6.0.1.5-ga-20190913/libnvinfer-dev_6.0.1-1+cuda10.1_amd64.deb\n",
            "/var/nv-tensorrt-repo-cuda10.1-trt6.0.1.5-ga-20190913/tensorrt_6.0.1.5-1+cuda10.1_amd64.deb\n",
            "/var/nv-tensorrt-repo-cuda10.1-trt6.0.1.5-ga-20190913/libnvinfer-bin_6.0.1-1+cuda10.1_amd64.deb\n",
            "/var/nv-tensorrt-repo-cuda10.1-trt6.0.1.5-ga-20190913/7fa2af80.pub\n",
            "/var/nv-tensorrt-repo-cuda10.1-trt6.0.1.5-ga-20190913/libnvinfer6_6.0.1-1+cuda10.1_amd64.deb\n",
            "/var/nv-tensorrt-repo-cuda10.1-trt6.0.1.5-ga-20190913/Release\n",
            "/var/nv-tensorrt-repo-cuda10.1-trt6.0.1.5-ga-20190913/python3-libnvinfer-dev_6.0.1-1+cuda10.1_amd64.deb\n",
            "/var/nv-tensorrt-repo-cuda10.1-trt6.0.1.5-ga-20190913/libnvonnxparsers6_6.0.1-1+cuda10.1_amd64.deb\n",
            "/var/nv-tensorrt-repo-cuda10.1-trt6.0.1.5-ga-20190913/Release.gpg\n",
            "/var/nv-tensorrt-repo-cuda10.1-trt6.0.1.5-ga-20190913/python-libnvinfer_6.0.1-1+cuda10.1_amd64.deb\n",
            "/var/nv-tensorrt-repo-cuda10.1-trt6.0.1.5-ga-20190913/graphsurgeon-tf_6.0.1-1+cuda10.1_amd64.deb\n",
            "/var/nv-tensorrt-repo-cuda10.1-trt6.0.1.5-ga-20190913/Packages.gz\n",
            "/var/nv-tensorrt-repo-cuda10.1-trt6.0.1.5-ga-20190913/libnvinfer-doc_6.0.1-1+cuda10.1_all.deb\n",
            "/var/nv-tensorrt-repo-cuda10.1-trt6.0.1.5-ga-20190913/libnvparsers-dev_6.0.1-1+cuda10.1_amd64.deb\n",
            "/var/nv-tensorrt-repo-cuda10.1-trt6.0.1.5-ga-20190913/libcudnn7_7.6.3.30-1+cuda10.1_amd64.deb\n",
            "/var/nv-tensorrt-repo-cuda10.1-trt6.0.1.5-ga-20190913/libnvparsers6_6.0.1-1+cuda10.1_amd64.deb\n",
            "/var/nv-tensorrt-repo-cuda10.1-trt6.0.1.5-ga-20190913/libnvinfer-samples_6.0.1-1+cuda10.1_all.deb\n",
            "/var/nv-tensorrt-repo-cuda10.1-trt6.0.1.5-ga-20190913/libcudnn7-dev_7.6.3.30-1+cuda10.1_amd64.deb\n",
            "/var/nv-tensorrt-repo-cuda10.1-trt6.0.1.5-ga-20190913/uff-converter-tf_6.0.1-1+cuda10.1_amd64.deb\n",
            "/var/nv-tensorrt-repo-cuda10.1-trt6.0.1.5-ga-20190913/libnvinfer-plugin6_6.0.1-1+cuda10.1_amd64.deb\n",
            "/var/nv-tensorrt-repo-cuda10.1-trt6.0.1.5-ga-20190913/libnvonnxparsers-dev_6.0.1-1+cuda10.1_amd64.deb\n",
            "/var/nv-tensorrt-repo-cuda10.1-trt6.0.1.5-ga-20190913/python-libnvinfer-dev_6.0.1-1+cuda10.1_amd64.deb\n"
          ],
          "name": "stdout"
        }
      ]
    },
    {
      "cell_type": "code",
      "metadata": {
        "id": "jSfSA7LJ90Jb",
        "colab_type": "code",
        "colab": {
          "base_uri": "https://localhost:8080/",
          "height": 34
        },
        "outputId": "2cc8b5ba-6e9c-4b32-cc1e-8a15c748f7af"
      },
      "source": [
        "!apt-key add /var/nv-tensorrt-repo-cuda10.1-trt6.0.1.5-ga-20190913/7fa2af80.pub"
      ],
      "execution_count": 14,
      "outputs": [
        {
          "output_type": "stream",
          "text": [
            "OK\n"
          ],
          "name": "stdout"
        }
      ]
    },
    {
      "cell_type": "code",
      "metadata": {
        "id": "0Nr4OPI3-E6k",
        "colab_type": "code",
        "colab": {
          "base_uri": "https://localhost:8080/",
          "height": 527
        },
        "outputId": "6303e1ea-5262-45c7-edf8-669c3522be7e"
      },
      "source": [
        "!apt-get update"
      ],
      "execution_count": 16,
      "outputs": [
        {
          "output_type": "stream",
          "text": [
            "\r0% [Working]\r            \rGet:1 file:/var/nv-tensorrt-repo-cuda10.1-trt6.0.1.5-ga-20190913  InRelease\n",
            "\r            \rIgn:1 file:/var/nv-tensorrt-repo-cuda10.1-trt6.0.1.5-ga-20190913  InRelease\n",
            "\r0% [Working]\r            \rGet:2 file:/var/nv-tensorrt-repo-cuda10.1-trt6.0.1.5-ga-20190913  Release [574 B]\n",
            "\r0% [Working]\r            \rGet:2 file:/var/nv-tensorrt-repo-cuda10.1-trt6.0.1.5-ga-20190913  Release [574 B]\n",
            "\r0% [2 Release 0 B/574 B 0%] [Connecting to archive.ubuntu.com] [Connecting to s\r0% [Connecting to archive.ubuntu.com] [Connecting to security.ubuntu.com (91.18\r                                                                               \rGet:3 file:/var/nv-tensorrt-repo-cuda10.1-trt6.0.1.5-ga-20190913  Release.gpg [836 B]\n",
            "\r0% [Connecting to archive.ubuntu.com] [Connecting to security.ubuntu.com (91.18\r                                                                               \rGet:3 file:/var/nv-tensorrt-repo-cuda10.1-trt6.0.1.5-ga-20190913  Release.gpg [836 B]\n",
            "\r0% [3 Release.gpg 0 B/836 B 0%] [Connecting to archive.ubuntu.com] [Connecting \r0% [Connecting to archive.ubuntu.com] [Connecting to security.ubuntu.com (91.18\r0% [3 Release.gpg gpgv 574 B] [Connecting to archive.ubuntu.com] [Connecting to\r                                                                               \rGet:4 http://security.ubuntu.com/ubuntu bionic-security InRelease [88.7 kB]\n",
            "\r0% [3 Release.gpg gpgv 574 B] [Connecting to archive.ubuntu.com] [4 InRelease 1\r0% [3 Release.gpg gpgv 574 B] [Connecting to archive.ubuntu.com (91.189.88.149)\r                                                                               \rGet:5 https://cloud.r-project.org/bin/linux/ubuntu bionic-cran35/ InRelease [3,626 B]\n",
            "\r0% [3 Release.gpg gpgv 574 B] [Connecting to archive.ubuntu.com (91.189.88.149)\r                                                                               \rIgn:6 https://developer.download.nvidia.com/compute/cuda/repos/ubuntu1804/x86_64  InRelease\n",
            "\r0% [3 Release.gpg gpgv 574 B] [Connecting to archive.ubuntu.com (91.189.88.149)\r                                                                               \rHit:7 http://ppa.launchpad.net/graphics-drivers/ppa/ubuntu bionic InRelease\n",
            "\r0% [3 Release.gpg gpgv 574 B] [Connecting to archive.ubuntu.com (91.189.88.149)\r                                                                               \rIgn:8 https://developer.download.nvidia.com/compute/machine-learning/repos/ubuntu1804/x86_64  InRelease\n",
            "\r0% [3 Release.gpg gpgv 574 B] [Waiting for headers] [Connecting to ppa.launchpa\r0% [Waiting for headers] [Waiting for headers] [Connecting to ppa.launchpad.net\r                                                                               \rGet:9 file:/var/nv-tensorrt-repo-cuda10.1-trt6.0.1.5-ga-20190913  Packages [4,791 B]\n",
            "\r0% [4 InRelease gpgv 88.7 kB] [Waiting for headers] [Waiting for headers] [Conn\r                                                                               \rHit:10 https://developer.download.nvidia.com/compute/cuda/repos/ubuntu1804/x86_64  Release\n",
            "\r0% [4 InRelease gpgv 88.7 kB] [Waiting for headers] [Connecting to ppa.launchpa\r0% [9 Packages store 0 B] [4 InRelease gpgv 88.7 kB] [Waiting for headers] [Wai\r0% [4 InRelease gpgv 88.7 kB] [Waiting for headers] [Waiting for headers] [Conn\r                                                                               \rHit:11 https://developer.download.nvidia.com/compute/machine-learning/repos/ubuntu1804/x86_64  Release\n",
            "Hit:12 http://archive.ubuntu.com/ubuntu bionic InRelease\n",
            "Get:13 http://ppa.launchpad.net/marutter/c2d4u3.5/ubuntu bionic InRelease [15.4 kB]\n",
            "Get:14 http://archive.ubuntu.com/ubuntu bionic-updates InRelease [88.7 kB]\n",
            "Get:15 http://security.ubuntu.com/ubuntu bionic-security/multiverse amd64 Packages [6,781 B]\n",
            "Get:16 http://security.ubuntu.com/ubuntu bionic-security/main amd64 Packages [761 kB]\n",
            "Get:17 http://security.ubuntu.com/ubuntu bionic-security/universe amd64 Packages [794 kB]\n",
            "Get:18 https://cloud.r-project.org/bin/linux/ubuntu bionic-cran35/ Packages [75.1 kB]\n",
            "Get:19 http://archive.ubuntu.com/ubuntu bionic-backports InRelease [74.6 kB]\n",
            "Get:22 http://ppa.launchpad.net/marutter/c2d4u3.5/ubuntu bionic/main Sources [1,742 kB]\n",
            "Get:23 http://archive.ubuntu.com/ubuntu bionic-updates/main amd64 Packages [1,057 kB]\n",
            "Get:24 http://archive.ubuntu.com/ubuntu bionic-updates/multiverse amd64 Packages [10.5 kB]\n",
            "Get:25 http://archive.ubuntu.com/ubuntu bionic-updates/restricted amd64 Packages [32.7 kB]\n",
            "Get:26 http://archive.ubuntu.com/ubuntu bionic-updates/universe amd64 Packages [1,322 kB]\n",
            "Get:27 http://ppa.launchpad.net/marutter/c2d4u3.5/ubuntu bionic/main amd64 Packages [840 kB]\n",
            "Fetched 6,913 kB in 3s (2,070 kB/s)\n",
            "Reading package lists... Done\n"
          ],
          "name": "stdout"
        }
      ]
    },
    {
      "cell_type": "code",
      "metadata": {
        "id": "DS39tDi_-ZaK",
        "colab_type": "code",
        "colab": {
          "base_uri": "https://localhost:8080/",
          "height": 391
        },
        "outputId": "05859b10-1bba-4484-87ad-61b42e7bca5d"
      },
      "source": [
        "!apt-get install tensorrt  # FAIL"
      ],
      "execution_count": 19,
      "outputs": [
        {
          "output_type": "stream",
          "text": [
            "Reading package lists... Done\n",
            "Building dependency tree       \n",
            "Reading state information... Done\n",
            "Some packages could not be installed. This may mean that you have\n",
            "requested an impossible situation or if you are using the unstable\n",
            "distribution that some required packages have not yet been created\n",
            "or been moved out of Incoming.\n",
            "The following information may help to resolve the situation:\n",
            "\n",
            "The following packages have unmet dependencies:\n",
            " tensorrt : Depends: libnvinfer6 (= 6.0.1-1+cuda10.1) but 6.0.1-1+cuda10.2 is to be installed\n",
            "            Depends: libnvinfer-plugin6 (= 6.0.1-1+cuda10.1) but 6.0.1-1+cuda10.2 is to be installed\n",
            "            Depends: libnvparsers6 (= 6.0.1-1+cuda10.1) but 6.0.1-1+cuda10.2 is to be installed\n",
            "            Depends: libnvonnxparsers6 (= 6.0.1-1+cuda10.1) but 6.0.1-1+cuda10.2 is to be installed\n",
            "            Depends: libnvinfer-bin (= 6.0.1-1+cuda10.1) but it is not going to be installed\n",
            "            Depends: libnvinfer-dev (= 6.0.1-1+cuda10.1) but 6.0.1-1+cuda10.2 is to be installed\n",
            "            Depends: libnvinfer-plugin-dev (= 6.0.1-1+cuda10.1) but 6.0.1-1+cuda10.2 is to be installed\n",
            "            Depends: libnvparsers-dev (= 6.0.1-1+cuda10.1) but 6.0.1-1+cuda10.2 is to be installed\n",
            "            Depends: libnvonnxparsers-dev (= 6.0.1-1+cuda10.1) but 6.0.1-1+cuda10.2 is to be installed\n",
            "            Depends: libnvinfer-samples (= 6.0.1-1+cuda10.1) but it is not going to be installed\n",
            "            Depends: libnvinfer-doc (= 6.0.1-1+cuda10.1) but it is not going to be installed\n",
            "E: Unable to correct problems, you have held broken packages.\n"
          ],
          "name": "stdout"
        }
      ]
    },
    {
      "cell_type": "code",
      "metadata": {
        "id": "tWXFz05F_C8Q",
        "colab_type": "code",
        "colab": {
          "base_uri": "https://localhost:8080/",
          "height": 578
        },
        "outputId": "cf76cb34-4236-4107-c4a4-0ab01b584469"
      },
      "source": [
        "!VER=6.0.1-1+cuda10.1 ; apt-get install libnvinfer6=$VER libnvinfer-plugin6=$VER libnvparsers6=$VER libnvonnxparsers6=$VER libnvinfer-bin=$VER libnvinfer-dev=$VER libnvinfer-plugin-dev=$VER libnvparsers-dev=$VER libnvonnxparsers-dev=$VER libnvinfer-samples=$VER libnvinfer-doc=$VER python3-libnvinfer=$VER python3-libnvinfer-dev=$VER"
      ],
      "execution_count": 25,
      "outputs": [
        {
          "output_type": "stream",
          "text": [
            "Reading package lists... Done\n",
            "Building dependency tree       \n",
            "Reading state information... Done\n",
            "libnvinfer-doc is already the newest version (6.0.1-1+cuda10.1).\n",
            "libnvonnxparsers-dev is already the newest version (6.0.1-1+cuda10.1).\n",
            "libnvparsers6 is already the newest version (6.0.1-1+cuda10.1).\n",
            "libnvparsers-dev is already the newest version (6.0.1-1+cuda10.1).\n",
            "libnvinfer-samples is already the newest version (6.0.1-1+cuda10.1).\n",
            "libnvinfer-dev is already the newest version (6.0.1-1+cuda10.1).\n",
            "libnvinfer6 is already the newest version (6.0.1-1+cuda10.1).\n",
            "libnvinfer-plugin6 is already the newest version (6.0.1-1+cuda10.1).\n",
            "libnvinfer-plugin-dev is already the newest version (6.0.1-1+cuda10.1).\n",
            "libnvonnxparsers6 is already the newest version (6.0.1-1+cuda10.1).\n",
            "libnvinfer-bin is already the newest version (6.0.1-1+cuda10.1).\n",
            "The following package was automatically installed and is no longer required:\n",
            "  libnvidia-common-430\n",
            "Use 'apt autoremove' to remove it.\n",
            "The following NEW packages will be installed:\n",
            "  python3-libnvinfer python3-libnvinfer-dev\n",
            "0 upgraded, 2 newly installed, 0 to remove and 15 not upgraded.\n",
            "Need to get 0 B/373 kB of archives.\n",
            "After this operation, 2,603 kB of additional disk space will be used.\n",
            "Get:1 file:/var/nv-tensorrt-repo-cuda10.1-trt6.0.1.5-ga-20190913  python3-libnvinfer 6.0.1-1+cuda10.1 [370 kB]\n",
            "Get:2 file:/var/nv-tensorrt-repo-cuda10.1-trt6.0.1.5-ga-20190913  python3-libnvinfer-dev 6.0.1-1+cuda10.1 [3,648 B]\n",
            "Selecting previously unselected package python3-libnvinfer.\n",
            "(Reading database ... 136277 files and directories currently installed.)\n",
            "Preparing to unpack .../python3-libnvinfer_6.0.1-1+cuda10.1_amd64.deb ...\n",
            "Unpacking python3-libnvinfer (6.0.1-1+cuda10.1) ...\n",
            "Selecting previously unselected package python3-libnvinfer-dev.\n",
            "Preparing to unpack .../python3-libnvinfer-dev_6.0.1-1+cuda10.1_amd64.deb ...\n",
            "Unpacking python3-libnvinfer-dev (6.0.1-1+cuda10.1) ...\n",
            "Setting up python3-libnvinfer (6.0.1-1+cuda10.1) ...\n",
            "Setting up python3-libnvinfer-dev (6.0.1-1+cuda10.1) ...\n"
          ],
          "name": "stdout"
        }
      ]
    },
    {
      "cell_type": "code",
      "metadata": {
        "id": "BrfJgvx_AKGV",
        "colab_type": "code",
        "colab": {
          "base_uri": "https://localhost:8080/",
          "height": 153
        },
        "outputId": "385555bc-ce97-477e-bd26-b4fb3e187ea6"
      },
      "source": [
        "!apt-get install tensorrt"
      ],
      "execution_count": 26,
      "outputs": [
        {
          "output_type": "stream",
          "text": [
            "Reading package lists... Done\n",
            "Building dependency tree       \n",
            "Reading state information... Done\n",
            "tensorrt is already the newest version (6.0.1.5-1+cuda10.1).\n",
            "The following package was automatically installed and is no longer required:\n",
            "  libnvidia-common-430\n",
            "Use 'apt autoremove' to remove it.\n",
            "0 upgraded, 0 newly installed, 0 to remove and 25 not upgraded.\n"
          ],
          "name": "stdout"
        }
      ]
    },
    {
      "cell_type": "code",
      "metadata": {
        "id": "DQWIqschAQvB",
        "colab_type": "code",
        "colab": {
          "base_uri": "https://localhost:8080/",
          "height": 34
        },
        "outputId": "87f01bc3-30b9-452e-a3ca-d02644985a79"
      },
      "source": [
        "# Runtime -> Restart runtime...\n",
        "import tensorrt\n",
        "tensorrt.__version__"
      ],
      "execution_count": 4,
      "outputs": [
        {
          "output_type": "execute_result",
          "data": {
            "text/plain": [
              "'6.0.1.5'"
            ]
          },
          "metadata": {
            "tags": []
          },
          "execution_count": 4
        }
      ]
    },
    {
      "cell_type": "code",
      "metadata": {
        "id": "IYnhOpbpBVVX",
        "colab_type": "code",
        "colab": {
          "base_uri": "https://localhost:8080/",
          "height": 187
        },
        "outputId": "b609a593-25a0-40fd-a4b8-458387155c5f"
      },
      "source": [
        "!pip install git+https://github.com/NVIDIA-AI-IOT/torch2trt.git"
      ],
      "execution_count": 6,
      "outputs": [
        {
          "output_type": "stream",
          "text": [
            "Collecting git+https://github.com/NVIDIA-AI-IOT/torch2trt.git\n",
            "  Cloning https://github.com/NVIDIA-AI-IOT/torch2trt.git to /tmp/pip-req-build-oh66r3ag\n",
            "  Running command git clone -q https://github.com/NVIDIA-AI-IOT/torch2trt.git /tmp/pip-req-build-oh66r3ag\n",
            "Building wheels for collected packages: torch2trt\n",
            "  Building wheel for torch2trt (setup.py) ... \u001b[?25l\u001b[?25hdone\n",
            "  Created wheel for torch2trt: filename=torch2trt-0.0.3-cp36-none-any.whl size=40872 sha256=757a02ad85c582f47b07220bd6b55f544cac21b6d82a3c81edc18f6bf4602da6\n",
            "  Stored in directory: /tmp/pip-ephem-wheel-cache-yk9vtjpc/wheels/75/8e/d1/b744a314f8312c6b2968d111c479cbd110d94bff1cbac7401d\n",
            "Successfully built torch2trt\n",
            "Installing collected packages: torch2trt\n",
            "Successfully installed torch2trt-0.0.3\n"
          ],
          "name": "stdout"
        }
      ]
    },
    {
      "cell_type": "code",
      "metadata": {
        "id": "5yU8da3oB1aN",
        "colab_type": "code",
        "colab": {}
      },
      "source": [
        "from torch2trt import torch2trt"
      ],
      "execution_count": 0,
      "outputs": []
    }
  ]
}