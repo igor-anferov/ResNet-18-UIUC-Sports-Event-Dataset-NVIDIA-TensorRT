{
  "nbformat": 4,
  "nbformat_minor": 0,
  "metadata": {
    "kernelspec": {
      "name": "python3",
      "display_name": "Python 3"
    },
    "language_info": {
      "codemirror_mode": {
        "name": "ipython",
        "version": 3
      },
      "file_extension": ".py",
      "mimetype": "text/x-python",
      "name": "python",
      "nbconvert_exporter": "python",
      "pygments_lexer": "ipython3",
      "version": "3.7.4"
    },
    "colab": {
      "name": "assignment2.ipynb",
      "provenance": [],
      "toc_visible": true
    },
    "accelerator": "GPU",
    "widgets": {
      "application/vnd.jupyter.widget-state+json": {
        "68dabef7fe804e99aa8ce0387d7af721": {
          "model_module": "@jupyter-widgets/controls",
          "model_name": "HBoxModel",
          "state": {
            "_view_name": "HBoxView",
            "_dom_classes": [],
            "_model_name": "HBoxModel",
            "_view_module": "@jupyter-widgets/controls",
            "_model_module_version": "1.5.0",
            "_view_count": null,
            "_view_module_version": "1.5.0",
            "box_style": "",
            "layout": "IPY_MODEL_71998ea3bf4440ef8f44d60392b5161a",
            "_model_module": "@jupyter-widgets/controls",
            "children": [
              "IPY_MODEL_48e4c1ab3c3843dbb6511ad95ca61ac8",
              "IPY_MODEL_8dba3346a8a2424aa1c6781934f2f3f9"
            ]
          }
        }
      }
    }
  },
  "cells": [
    {
      "cell_type": "markdown",
      "metadata": {
        "id": "ZP-5mroS74zy",
        "colab_type": "text"
      },
      "source": [
        "## Задание 2\n",
        "\n",
        "Состоит из **обязательной** и **бонусной** частей.\n",
        "\n",
        "Обязательная часть оценивается в **50 баллов** и выполняется до **16 декабря 09:00**.\n",
        "\n",
        "Бонусную часть можно делать, пока не придет необходимость получения оценки/зачета.\n",
        "\n",
        "Обязательная часть заключается в fine-tuning несложной нейросети (ResNet-18) на UIUC Sports Event Dataset (http://vision.stanford.edu/lijiali/event_dataset) и ее последующем ускорении с помощью фреймворка **NVIDIA TensorRT** (https://developer.nvidia.com/tensorrt)."
      ]
    },
    {
      "cell_type": "code",
      "metadata": {
        "id": "HyVd7CCs74z2",
        "colab_type": "code",
        "colab": {}
      },
      "source": [
        "import torch\n",
        "import torchvision\n",
        "from torchvision import transforms, models\n",
        "\n",
        "from tqdm import tqdm_notebook as tqdm"
      ],
      "execution_count": 0,
      "outputs": []
    },
    {
      "cell_type": "markdown",
      "metadata": {
        "id": "okzIuMVe74z9",
        "colab_type": "text"
      },
      "source": [
        "**(5 баллов)** Скачайте датасет, распакуйте его в директорию `./event_img/`. В ней должны оказаться 8 директорий, соответствующих классам картинок. Загрузите датасет в torch и разбейте случайным образом на train и val."
      ]
    },
    {
      "cell_type": "code",
      "metadata": {
        "id": "oYMePg-_8kSh",
        "colab_type": "code",
        "colab": {}
      },
      "source": [
        "#!wget http://vision.stanford.edu/lijiali/event_dataset/event_dataset.rar\n",
        "#!unrar x event_dataset.rar"
      ],
      "execution_count": 0,
      "outputs": []
    },
    {
      "cell_type": "code",
      "metadata": {
        "id": "b3o6TvPv74z_",
        "colab_type": "code",
        "colab": {
          "base_uri": "https://localhost:8080/",
          "height": 34
        },
        "outputId": "134ac0fb-5f42-4944-c16f-16557049363e"
      },
      "source": [
        "event_dataset = torchvision.datasets.ImageFolder('event_img')\n",
        "assert isinstance(event_dataset, torch.utils.data.Dataset)\n",
        "\n",
        "dataset_length = len(event_dataset)\n",
        "print(f'Number of images: {dataset_length}')"
      ],
      "execution_count": 3,
      "outputs": [
        {
          "output_type": "stream",
          "text": [
            "Number of images: 1579\n"
          ],
          "name": "stdout"
        }
      ]
    },
    {
      "cell_type": "code",
      "metadata": {
        "id": "YFhPXNZh740F",
        "colab_type": "code",
        "colab": {}
      },
      "source": [
        "val_size = .4\n",
        "val_length = int(dataset_length * val_size)\n",
        "train_length = dataset_length - val_length\n",
        "\n",
        "train_data_raw, val_data_raw = torch.utils.data.random_split(event_dataset, [train_length, val_length])\n",
        "\n",
        "assert isinstance(train_data_raw, torch.utils.data.Dataset)\n",
        "assert isinstance(val_data_raw, torch.utils.data.Dataset)"
      ],
      "execution_count": 0,
      "outputs": []
    },
    {
      "cell_type": "markdown",
      "metadata": {
        "id": "SLDVfsE5740I",
        "colab_type": "text"
      },
      "source": [
        "**(10 баллов)** Нам нужны разные преобразования (transforms) для train и val. Напишите класс `ApplyTransform`, объект которого — тот же датасет, что подается в конструкторе, но с примененными преобразованиями.\n",
        "\n",
        "К `train_data_raw` нужно применить изменение размера до 256px (`min(height, width)`), извлечение региона 256x256 в центре, выбор в этом регионе случайного квадрата 224x224.\n",
        "\n",
        "К `test_data_raw` нужно применить изменение размера до 224px и извлечение региона 224x224 в центре."
      ]
    },
    {
      "cell_type": "code",
      "metadata": {
        "id": "akf69CbT740J",
        "colab_type": "code",
        "colab": {}
      },
      "source": [
        "class ApplyTransform(torch.utils.data.Dataset):\n",
        "    def __init__(self, dataset, transform=None, target_transform=None):\n",
        "        self.data = dataset\n",
        "        self.transform = transform\n",
        "\n",
        "    def __len__(self):\n",
        "        return self.data.__len__()\n",
        "\n",
        "    def __getitem__(self, index):\n",
        "        if self.transform:\n",
        "            X, y = self.data.__getitem__(index)\n",
        "            return self.transform(X), y\n",
        "        return self.data.__getitem__(index)"
      ],
      "execution_count": 0,
      "outputs": []
    },
    {
      "cell_type": "code",
      "metadata": {
        "id": "9_oFU6su740L",
        "colab_type": "code",
        "colab": {}
      },
      "source": [
        "imagenet_normalize = transforms.Normalize(\n",
        "    mean=[0.485, 0.456, 0.406],\n",
        "    std=[0.229, 0.224, 0.225]\n",
        ")\n",
        "\n",
        "train_transform = transforms.Compose([\n",
        "    torchvision.transforms.Resize(256),\n",
        "    torchvision.transforms.CenterCrop(256),\n",
        "    torchvision.transforms.RandomCrop(224),\n",
        "    transforms.RandomHorizontalFlip(),\n",
        "    transforms.ToTensor(),\n",
        "    imagenet_normalize\n",
        "])\n",
        "\n",
        "val_transform = transforms.Compose([\n",
        "    torchvision.transforms.Resize(224),\n",
        "    torchvision.transforms.CenterCrop(224),\n",
        "    transforms.ToTensor(),\n",
        "    imagenet_normalize\n",
        "])\n",
        "\n",
        "train_data = ApplyTransform(train_data_raw, train_transform)\n",
        "val_data = ApplyTransform(val_data_raw, val_transform)"
      ],
      "execution_count": 0,
      "outputs": []
    },
    {
      "cell_type": "code",
      "metadata": {
        "id": "NOefkuP8740O",
        "colab_type": "code",
        "colab": {}
      },
      "source": [
        "batch_size = 32\n",
        "train_loader = torch.utils.data.DataLoader(train_data, batch_size=batch_size, num_workers=8)\n",
        "val_loader = torch.utils.data.DataLoader(val_data, batch_size=batch_size, num_workers=8)"
      ],
      "execution_count": 0,
      "outputs": []
    },
    {
      "cell_type": "markdown",
      "metadata": {
        "id": "b6A95ao2740Q",
        "colab_type": "text"
      },
      "source": [
        "**(5 баллов)** Загрузите предобученную на ImageNet модель ResNet-18, адаптируйте ее под классификацию на 8 классов. Создайте подходящую функцию потерь и оптимизатор SGD с `momentum=0.9`."
      ]
    },
    {
      "cell_type": "code",
      "metadata": {
        "id": "BC3fF-Sr740Q",
        "colab_type": "code",
        "colab": {}
      },
      "source": [
        "num_classes = 8\n",
        "\n",
        "model = torchvision.models.resnet18(pretrained=True)\n",
        "num_ftrs = model.fc.in_features\n",
        "model.fc = torch.nn.Linear(num_ftrs, num_classes)\n",
        "\n",
        "criterion = torch.nn.CrossEntropyLoss()\n",
        "optimizer = torch.optim.SGD(model.parameters(), lr=0.01, momentum=0.9)"
      ],
      "execution_count": 0,
      "outputs": []
    },
    {
      "cell_type": "markdown",
      "metadata": {
        "id": "7efgEzWV740S",
        "colab_type": "text"
      },
      "source": [
        "**(10 баллов)** Реализуйте обучение модели, а потом измерьте время инференса на val датасете (`batch_size=32`)."
      ]
    },
    {
      "cell_type": "code",
      "metadata": {
        "id": "j2MQPj2i740S",
        "colab_type": "code",
        "colab": {
          "base_uri": "https://localhost:8080/",
          "height": 204,
          "referenced_widgets": [
            "68dabef7fe804e99aa8ce0387d7af721"
          ]
        },
        "outputId": "558241d1-19e3-47ea-bf08-33ebb6e7a59f"
      },
      "source": [
        "num_epochs = 10\n",
        "\n",
        "device = torch.device('cuda:0' if torch.cuda.is_available() else 'cpu')\n",
        "model = model.to(device)\n",
        "\n",
        "for epoch in tqdm(range(num_epochs)):\n",
        "    print(\"Epoch {:>2}/{:>2}\".format(epoch + 1, num_epochs), end='')\n",
        "    for X, y in train_loader:\n",
        "        print('.', end='')\n",
        "\n",
        "        X = X.to(device)\n",
        "        y = y.to(device)\n",
        "\n",
        "        optimizer.zero_grad()\n",
        "        model.train()\n",
        "\n",
        "        preds = model.forward(X)\n",
        "\n",
        "        loss_value = criterion(preds, y)\n",
        "        loss_value.backward()\n",
        "\n",
        "        optimizer.step()\n",
        "    print()\n"
      ],
      "execution_count": 9,
      "outputs": [
        {
          "output_type": "display_data",
          "data": {
            "application/vnd.jupyter.widget-view+json": {
              "model_id": "68dabef7fe804e99aa8ce0387d7af721",
              "version_minor": 0,
              "version_major": 2
            },
            "text/plain": [
              "HBox(children=(IntProgress(value=0, max=10), HTML(value='')))"
            ]
          },
          "metadata": {
            "tags": []
          }
        },
        {
          "output_type": "stream",
          "text": [
            "Epoch  1/10..............................\n",
            "Epoch  2/10..............................\n",
            "Epoch  3/10..............................\n",
            "Epoch  4/10..............................\n",
            "Epoch  5/10..............................\n",
            "Epoch  6/10..............................\n",
            "Epoch  7/10..............................\n",
            "Epoch  8/10..............................\n",
            "Epoch  9/10..............................\n",
            "Epoch 10/10..............................\n",
            "\n"
          ],
          "name": "stdout"
        }
      ]
    },
    {
      "cell_type": "code",
      "metadata": {
        "id": "78fPeuC6BNa3",
        "colab_type": "code",
        "colab": {
          "base_uri": "https://localhost:8080/",
          "height": 34
        },
        "outputId": "42c6d974-36df-4d32-cf91-56dce185c348"
      },
      "source": [
        "import time\n",
        "import numpy as np\n",
        "\n",
        "t = []\n",
        "model.eval()\n",
        "for X, y in val_loader:\n",
        "    X = X.to(device)\n",
        "    y = y.to(device)\n",
        "\n",
        "    start = time.monotonic()\n",
        "    model.forward(X)\n",
        "    t.append(time.monotonic() - start)\n",
        "\n",
        "print(np.mean(t))"
      ],
      "execution_count": 10,
      "outputs": [
        {
          "output_type": "stream",
          "text": [
            "0.012406075849867193\n"
          ],
          "name": "stdout"
        }
      ]
    },
    {
      "cell_type": "code",
      "metadata": {
        "id": "eCSuXmkz740U",
        "colab_type": "code",
        "colab": {}
      },
      "source": [
        "# measure inference time\n",
        "# 0.012406075849867193"
      ],
      "execution_count": 0,
      "outputs": []
    },
    {
      "cell_type": "markdown",
      "metadata": {
        "id": "CsQU2ce9740V",
        "colab_type": "text"
      },
      "source": [
        "**(20 баллов)** Установите TensorRT и **torch2trt** (https://github.com/NVIDIA-AI-IOT/torch2trt). Оптимизируйте с помощью torch2trt обученную модель и снова измерьте время инференса.\n",
        "\n",
        "Попробуйте:\n",
        "* как режим fp32, так и fp16\n",
        "* не менее трех разных значений `batch_size`"
      ]
    },
    {
      "cell_type": "code",
      "metadata": {
        "id": "r8HnmXnN740W",
        "colab_type": "code",
        "colab": {}
      },
      "source": [
        "from torch2trt import torch2trt"
      ],
      "execution_count": 0,
      "outputs": []
    },
    {
      "cell_type": "code",
      "metadata": {
        "id": "aHHwK39v740X",
        "colab_type": "code",
        "colab": {
          "base_uri": "https://localhost:8080/",
          "height": 153
        },
        "outputId": "a5527326-0eb3-4eed-afea-477e8a159f5b"
      },
      "source": [
        "for batch_size in [ 1, 32, 128, 512 ]:\n",
        "    for fp16_mode in [ False, True ]:\n",
        "        try:\n",
        "            model_trt = torch2trt(model, [[X.to(device) for X, y in train_loader][0]], max_batch_size=batch_size, fp16_mode=fp16_mode)\n",
        "            t = []\n",
        "            for X, y in val_loader:\n",
        "                X = X.to(device)\n",
        "                y = y.to(device)\n",
        "\n",
        "                start = time.monotonic()\n",
        "                model_trt.forward(X)\n",
        "                t.append(time.monotonic() - start)\n",
        "\n",
        "            print(\"batch_size {:>3}, fp16_mode {:5}: {}\".format(batch_size, str(fp16_mode), np.mean(t)))\n",
        "        except Exception:\n",
        "            pass\n"
      ],
      "execution_count": 13,
      "outputs": [
        {
          "output_type": "stream",
          "text": [
            "batch_size   1, fp16_mode False: 0.001258589000281063\n",
            "batch_size   1, fp16_mode True : 0.0022488963995783706\n",
            "batch_size  32, fp16_mode False: 0.002087083900551079\n",
            "batch_size  32, fp16_mode True : 0.0018581229998744675\n",
            "batch_size 128, fp16_mode False: 0.0031716563496956953\n",
            "batch_size 128, fp16_mode True : 0.0020114141503654536\n",
            "batch_size 512, fp16_mode False: 0.002283826250277343\n",
            "batch_size 512, fp16_mode True : 0.003457137350051198\n"
          ],
          "name": "stdout"
        }
      ]
    },
    {
      "cell_type": "code",
      "metadata": {
        "id": "ls_QudZr7_u6",
        "colab_type": "code",
        "colab": {}
      },
      "source": [
        "# measure inference time\n",
        "# 0.001258589000281063\n",
        "#\n",
        "#   Лучшее время достагается при размере батча 1 и отключённом режиме fp16_mode (параметры по умолчанию).\n",
        "#   По сравнению с pytorch-реализацией инференс ускоряется почти в 10 раз."
      ],
      "execution_count": 0,
      "outputs": []
    },
    {
      "cell_type": "markdown",
      "metadata": {
        "id": "ZyccnZ7q740Y",
        "colab_type": "text"
      },
      "source": [
        "### Бонусная часть (100 баллов)\n",
        "Нужно переписать функцию `torch2trt()`, чтобы она поддерживала **режим `int8`-инференса**.\n",
        "\n",
        "Сам TensorRT в режиме `int8` требует **калибровки**, которую нужно выполнять по train датасету. То есть нужно написать класс-калибратор (подкласс `tensorrt.IInt8EntropyCalibrator2`).\n",
        "\n",
        "За уточнением того, что надо сделать, и за помощью обращаться к:\n",
        "* https://docs.nvidia.com/deeplearning/sdk/tensorrt-developer-guide/index.html#enable_int8_python\n",
        "* https://docs.nvidia.com/deeplearning/sdk/tensorrt-api/python_api/index.html\n",
        "* примеру из TensorRT `samples/python/int8_caffe_mnist`\n",
        "* преподавателю через почтовый ящик курса или telegram"
      ]
    }
  ]
}